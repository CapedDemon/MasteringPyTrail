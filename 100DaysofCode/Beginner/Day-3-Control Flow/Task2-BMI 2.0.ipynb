{
 "cells": [
  {
   "cell_type": "markdown",
   "metadata": {},
   "source": [
    "## BMI Interpretation Program\n",
    "\n",
    "This program calculates the Body Mass Index (BMI) based on a user's weight and height and provides an interpretation of their BMI according to the following criteria:\n",
    "\n",
    "- If the BMI is under 18.5, they are considered **underweight**.\n",
    "- If the BMI is over 18.5 but below 25, they have a **normal weight**.\n",
    "- If the BMI is over 25 but below 30, they are **slightly overweight**.\n",
    "- If the BMI is over 30 but below 35, they are **obese**.\n",
    "- If the BMI is above 35, they are **clinically obese**.\n",
    "\n",
    "![Alt text](https://cdn.fs.teachablecdn.com/qTOp8afxSkGfU5YGYf36)\n",
    "\n",
    "The BMI is calculated by dividing a person's weight (in kg) by the square of their height (in m):\n",
    "\n",
    "![Alt text](https://codingrooms-user-uploads-us-west-2.s3-us-west-2.amazonaws.com/be5ff193-a1ad-4f8e-ba40-504c85610518/BMI+Image+Small.jpeg)\n",
    "\n",
    "**Warning** you should round the result to the nearest whole number. The interpretation message needs to include the words in bold from the interpretations above. **e.g. underweight, normal weight, overweight, obese, clinically obese.**"
   ]
  },
  {
   "cell_type": "code",
   "execution_count": 7,
   "metadata": {},
   "outputs": [
    {
     "name": "stdout",
     "output_type": "stream",
     "text": [
      "Your BMI is 28, you are slightly overweight.\n"
     ]
    }
   ],
   "source": [
    "# 🚨 Don't change the code below 👇\n",
    "height = float(input(\"enter your height in m: \"))\n",
    "weight = float(input(\"enter your weight in kg: \"))\n",
    "# 🚨 Don't change the code above 👆\n",
    "\n",
    "#Write your code below this line 👇\n",
    "bmi= round(weight/height**2) #round functions rounds the value to the nearest whole number\n",
    "\n",
    "if bmi <=18.5:\n",
    "    print(f\"Your BMI is {bmi}, you are underweight.\")\n",
    "elif bmi<= 25:\n",
    "    print(f\"Your BMI is {bmi}, you have a normal weight.\")\n",
    "elif bmi <= 30:\n",
    "    print(f\"Your BMI is {bmi}, you are slightly overweight.\")\n",
    "elif bmi<= 35:\n",
    "    print(f\"Your BMI is {bmi}, you are obese.\")\n",
    "else:\n",
    "    print(f\"Your BMI is {bmi}, you are clinically obese.\")"
   ]
  },
  {
   "cell_type": "code",
   "execution_count": null,
   "metadata": {},
   "outputs": [],
   "source": []
  }
 ],
 "metadata": {
  "kernelspec": {
   "display_name": "base",
   "language": "python",
   "name": "python3"
  },
  "language_info": {
   "codemirror_mode": {
    "name": "ipython",
    "version": 3
   },
   "file_extension": ".py",
   "mimetype": "text/x-python",
   "name": "python",
   "nbconvert_exporter": "python",
   "pygments_lexer": "ipython3",
   "version": "3.9.13"
  },
  "orig_nbformat": 4
 },
 "nbformat": 4,
 "nbformat_minor": 2
}
